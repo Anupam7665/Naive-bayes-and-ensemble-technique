{
 "cells": [
  {
   "cell_type": "markdown",
   "id": "0b11105c-6463-4d63-a638-97968ebf3c1d",
   "metadata": {},
   "source": [
    "### Q1. What is Bayes' theorem?"
   ]
  },
  {
   "cell_type": "markdown",
   "id": "6450b8a9-ade1-440c-8fa0-eec4b21a3532",
   "metadata": {},
   "source": [
    "Bayes' theorem is a mathematical formula that describes the probability of an event occurring based on prior knowledge of conditions that might be related to the event.\n",
    "\n",
    "The theorem states that the probability of an event A occurring, given some evidence B, is equal to the probability of B occurring, given that A has occurred, multiplied by the prior probability of A occurring, divided by the prior probability of B occurring. In other words:\n",
    "\n",
    "P(A | B) = P(B | A) * P(A) / P(B)"
   ]
  },
  {
   "cell_type": "markdown",
   "id": "5c2a10cf-b68c-42b3-b226-476f15d54d73",
   "metadata": {},
   "source": [
    "### Q2. What is the formula for Bayes' theorem?"
   ]
  },
  {
   "cell_type": "markdown",
   "id": "5b0c16dc-1c39-4e0c-b424-46801e69d5ec",
   "metadata": {},
   "source": [
    "The formula for Bayes' theorem is:\n",
    "\n",
    "P(A | B) = P(B | A) * P(A) / P(B)\n",
    "\n",
    "where:\n",
    "\n",
    "P(A | B) is the probability of event A occurring given that event B has occurred (known as the posterior probability)\n",
    "P(B | A) is the probability of event B occurring given that event A has occurred (known as the likelihood)\n",
    "P(A) is the prior probability of event A occurring (the probability of A occurring before taking B into account)\n",
    "P(B) is the prior probability of event B occurring (the probability of B occurring before taking A into account)"
   ]
  },
  {
   "cell_type": "markdown",
   "id": "d354ec4e-a849-4cf9-8310-0689cf7a4869",
   "metadata": {},
   "source": [
    "### Q3. How is Bayes' theorem used in practice?"
   ]
  },
  {
   "cell_type": "markdown",
   "id": "46b14a75-b5a9-4402-8b38-1b716eab3962",
   "metadata": {},
   "source": [
    "Bayes' theorem is used in practice in many different fields, including statistics, machine learning, artificial intelligence, and decision-making. Here are some examples of how it is used in practice:\n",
    "\n",
    " - **Medical diagnosis:**Bayes' theorem can be used to calculate the probability of a patient having a disease based on their symptoms and medical history. By updating the prior probability of the disease based on the likelihood of the symptoms given the disease, we can obtain a more accurate diagnosis.\n",
    "\n",
    " - **Spam filtering:** Bayes' theorem can be used to classify emails as spam or not spam. By calculating the probability of an email being spam based on the likelihood of certain words or phrases appearing in the email, we can filter out unwanted messages.\n",
    "\n",
    " - **Predictive modeling:** Bayes' theorem can be used to make predictions about future events based on past observations. For example, in weather forecasting, we can update our prior probability of certain weather conditions based on the likelihood of certain atmospheric patterns, in order to make more accurate predictions."
   ]
  },
  {
   "cell_type": "markdown",
   "id": "123e784c-25d5-48ef-aae2-96b17cd531af",
   "metadata": {},
   "source": [
    "### Q4. What is the relationship between Bayes' theorem and conditional probability?"
   ]
  },
  {
   "cell_type": "markdown",
   "id": "635eedae-8713-4f7a-be3c-65c9a5379d3e",
   "metadata": {},
   "source": [
    "**Conditional probability** is the probability of an event A given that another event B has occurred, and it is calculated as follows:\n",
    "\n",
    "P(A | B) = P(A and B) / P(B)\n",
    "\n",
    "This formula gives the probability of event A occurring given that we know event B has occurred.\n",
    "\n",
    "**Bayes' theorem,** on the other hand, is a formula that relates the conditional probabilities of two events. It states that the probability of an event A given event B is equal to the probability of event B given event A, multiplied by the prior probability of event A, and divided by the prior probability of event B:\n",
    "\n",
    "P(A | B) = P(B | A) * P(A) / P(B)\n",
    "\n",
    "Conditional probability is a special case of Bayes' theorem, where we are given the likelihood of B given A and want to find the posterior probability of A given B. Bayes' theorem provides a general framework for computing probabilities that takes into account prior beliefs and new evidence, and can be used to update those beliefs as new evidence becomes available."
   ]
  },
  {
   "cell_type": "markdown",
   "id": "6a35f774-fc42-47bb-ae75-d1760314406c",
   "metadata": {},
   "source": [
    "### Q5. How do you choose which type of Naive Bayes classifier to use for any given problem?"
   ]
  },
  {
   "cell_type": "markdown",
   "id": "c298415f-f25b-47ed-b1f0-621fdc5bce77",
   "metadata": {},
   "source": [
    "Choosing the right type of Naive Bayes classifier for a given problem depends on the nature of the data and the assumptions we want to make about the relationships between the input features and the output variable. Here are some guidelines for choosing the right type of Naive Bayes classifier:\n",
    "\n",
    " - **Bernoulli Naive Bayes:** This classifier is used for binary or boolean input features, where each feature is either present or absent. For example, it could be used for sentiment analysis, where we want to classify a document as positive or negative based on the presence or absence of certain words.\n",
    "\n",
    " - **Multinomial Naive Bayes:** This classifier is used for discrete input features that can take on multiple values. For example, it could be used for text classification, where we want to classify documents into categories based on the frequency of certain words.\n",
    "\n",
    " - **Gaussian Naive Bayes:** This classifier is used for continuous input features that are normally distributed. For example, it could be used for predicting the price of a house based on its size, location, and other features."
   ]
  },
  {
   "cell_type": "markdown",
   "id": "dd876efe-c149-4917-b18e-900cfa06efce",
   "metadata": {},
   "source": [
    "### Q6. Assignment:\n",
    "You have a dataset with two features, X1 and X2, and two possible classes, A and B. You want to use Naive\n",
    "Bayes to classify a new instance with features X1 = 3 and X2 = 4. The following table shows the frequency of\n",
    "each feature value for each class:"
   ]
  }
 ],
 "metadata": {
  "kernelspec": {
   "display_name": "Python 3 (ipykernel)",
   "language": "python",
   "name": "python3"
  },
  "language_info": {
   "codemirror_mode": {
    "name": "ipython",
    "version": 3
   },
   "file_extension": ".py",
   "mimetype": "text/x-python",
   "name": "python",
   "nbconvert_exporter": "python",
   "pygments_lexer": "ipython3",
   "version": "3.10.8"
  }
 },
 "nbformat": 4,
 "nbformat_minor": 5
}
